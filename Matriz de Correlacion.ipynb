{
 "cells": [
  {
   "cell_type": "markdown",
   "id": "2cc6829e",
   "metadata": {},
   "source": [
    "## Matriz de correlación "
   ]
  },
  {
   "cell_type": "markdown",
   "id": "e08ac7a7",
   "metadata": {},
   "source": [
    "Uno de los componentes esenciales en el Análisis exploratorio de datos, es explorar las relaciones entre las variables analizadas.\n",
    "Una forma de cuantificar la relación entre dos variables es utilizar el coeficiente de correlación de Pearson, que es una medida de la asociación entre dos variables.Toma un valor entre -1 y 1.\n",
    "En algunos casos queremos comprender la correlación entre más de un par de variables. En estos casos, podemos crear una matriz de correlación, que es una tabla que muestra los coeficientes de correlación entre varias combinaciones de variables.\n"
   ]
  },
  {
   "cell_type": "code",
   "execution_count": null,
   "id": "ec8586a2",
   "metadata": {},
   "outputs": [],
   "source": [
    "import pandas as pd \n",
    "import matplotlib as mpl\n",
    "import matplotlib.pyplot as plt"
   ]
  },
  {
   "cell_type": "code",
   "execution_count": 14,
   "id": "9ae175b4",
   "metadata": {},
   "outputs": [
    {
     "data": {
      "text/html": [
       "<div>\n",
       "<style scoped>\n",
       "    .dataframe tbody tr th:only-of-type {\n",
       "        vertical-align: middle;\n",
       "    }\n",
       "\n",
       "    .dataframe tbody tr th {\n",
       "        vertical-align: top;\n",
       "    }\n",
       "\n",
       "    .dataframe thead th {\n",
       "        text-align: right;\n",
       "    }\n",
       "</style>\n",
       "<table border=\"1\" class=\"dataframe\">\n",
       "  <thead>\n",
       "    <tr style=\"text-align: right;\">\n",
       "      <th></th>\n",
       "      <th>Calorias</th>\n",
       "      <th>Tiempo</th>\n",
       "      <th>Peso</th>\n",
       "      <th>Velocidad</th>\n",
       "    </tr>\n",
       "  </thead>\n",
       "  <tbody>\n",
       "    <tr>\n",
       "      <th>0</th>\n",
       "      <td>177.9</td>\n",
       "      <td>13.7</td>\n",
       "      <td>61.2</td>\n",
       "      <td>12.3</td>\n",
       "    </tr>\n",
       "    <tr>\n",
       "      <th>1</th>\n",
       "      <td>644.1</td>\n",
       "      <td>51.9</td>\n",
       "      <td>62.6</td>\n",
       "      <td>11.5</td>\n",
       "    </tr>\n",
       "    <tr>\n",
       "      <th>2</th>\n",
       "      <td>929.4</td>\n",
       "      <td>55.4</td>\n",
       "      <td>69.3</td>\n",
       "      <td>14.0</td>\n",
       "    </tr>\n",
       "    <tr>\n",
       "      <th>3</th>\n",
       "      <td>941.2</td>\n",
       "      <td>61.9</td>\n",
       "      <td>80.1</td>\n",
       "      <td>11.0</td>\n",
       "    </tr>\n",
       "    <tr>\n",
       "      <th>4</th>\n",
       "      <td>303.1</td>\n",
       "      <td>19.9</td>\n",
       "      <td>95.6</td>\n",
       "      <td>9.2</td>\n",
       "    </tr>\n",
       "  </tbody>\n",
       "</table>\n",
       "</div>"
      ],
      "text/plain": [
       "   Calorias  Tiempo  Peso  Velocidad\n",
       "0     177.9    13.7  61.2       12.3\n",
       "1     644.1    51.9  62.6       11.5\n",
       "2     929.4    55.4  69.3       14.0\n",
       "3     941.2    61.9  80.1       11.0\n",
       "4     303.1    19.9  95.6        9.2"
      ]
     },
     "execution_count": 14,
     "metadata": {},
     "output_type": "execute_result"
    }
   ],
   "source": [
    "data = pd.read_csv(\"calories_time_weight_speed.csv\")\n",
    "data.head(5)"
   ]
  },
  {
   "cell_type": "code",
   "execution_count": 16,
   "id": "b12d73ca",
   "metadata": {},
   "outputs": [
    {
     "data": {
      "text/plain": [
       "Calorias     float64\n",
       "Tiempo       float64\n",
       "Peso         float64\n",
       "Velocidad    float64\n",
       "dtype: object"
      ]
     },
     "execution_count": 16,
     "metadata": {},
     "output_type": "execute_result"
    }
   ],
   "source": [
    "data.dtypes"
   ]
  },
  {
   "cell_type": "code",
   "execution_count": 18,
   "id": "a9ffca80",
   "metadata": {},
   "outputs": [
    {
     "data": {
      "text/html": [
       "<div>\n",
       "<style scoped>\n",
       "    .dataframe tbody tr th:only-of-type {\n",
       "        vertical-align: middle;\n",
       "    }\n",
       "\n",
       "    .dataframe tbody tr th {\n",
       "        vertical-align: top;\n",
       "    }\n",
       "\n",
       "    .dataframe thead th {\n",
       "        text-align: right;\n",
       "    }\n",
       "</style>\n",
       "<table border=\"1\" class=\"dataframe\">\n",
       "  <thead>\n",
       "    <tr style=\"text-align: right;\">\n",
       "      <th></th>\n",
       "      <th>Calorias</th>\n",
       "      <th>Tiempo</th>\n",
       "      <th>Peso</th>\n",
       "      <th>Velocidad</th>\n",
       "    </tr>\n",
       "  </thead>\n",
       "  <tbody>\n",
       "    <tr>\n",
       "      <th>Calorias</th>\n",
       "      <td>1.000000</td>\n",
       "      <td>0.892129</td>\n",
       "      <td>0.263631</td>\n",
       "      <td>0.008829</td>\n",
       "    </tr>\n",
       "    <tr>\n",
       "      <th>Tiempo</th>\n",
       "      <td>0.892129</td>\n",
       "      <td>1.000000</td>\n",
       "      <td>-0.006131</td>\n",
       "      <td>-0.297225</td>\n",
       "    </tr>\n",
       "    <tr>\n",
       "      <th>Peso</th>\n",
       "      <td>0.263631</td>\n",
       "      <td>-0.006131</td>\n",
       "      <td>1.000000</td>\n",
       "      <td>-0.017812</td>\n",
       "    </tr>\n",
       "    <tr>\n",
       "      <th>Velocidad</th>\n",
       "      <td>0.008829</td>\n",
       "      <td>-0.297225</td>\n",
       "      <td>-0.017812</td>\n",
       "      <td>1.000000</td>\n",
       "    </tr>\n",
       "  </tbody>\n",
       "</table>\n",
       "</div>"
      ],
      "text/plain": [
       "           Calorias    Tiempo      Peso  Velocidad\n",
       "Calorias   1.000000  0.892129  0.263631   0.008829\n",
       "Tiempo     0.892129  1.000000 -0.006131  -0.297225\n",
       "Peso       0.263631 -0.006131  1.000000  -0.017812\n",
       "Velocidad  0.008829 -0.297225 -0.017812   1.000000"
      ]
     },
     "execution_count": 18,
     "metadata": {},
     "output_type": "execute_result"
    }
   ],
   "source": [
    "data.corr()"
   ]
  },
  {
   "cell_type": "code",
   "execution_count": 23,
   "id": "ac036a8c",
   "metadata": {},
   "outputs": [
    {
     "data": {
      "image/png": "[encoded data removed]",
      "text/plain": [
       "<Figure size 480x480 with 2 Axes>"
      ]
     },
     "metadata": {},
     "output_type": "display_data"
    }
   ],
   "source": [
    "matriz = data.corr()\n",
    "plt.matshow(matriz, cmap = 'bwr', vmin=-1, vmax=1) # bwr =  blue, white, red\n",
    "plt.xticks(range(4), data.columns, rotation = 90)\n",
    "plt.yticks(range(4),data.columns)\n",
    "\n",
    "for i in range(len(data.columns)):\n",
    "        for j in range(len(data.columns)):\n",
    "            plt.text(i,j, round(matriz.iloc[i,j],2), va = 'center', ha= 'center')\n",
    "\n",
    "plt.colorbar()\n",
    "plt.show()"
   ]
  },
  {
   "cell_type": "markdown",
   "id": "c15895f2",
   "metadata": {},
   "source": [
    "El coeficiente de correlacion es una métrica que explica cómo de asociadas están dos variables, va del -1 al 1. Uno significa totalmente correlacionadas positivamente, 0 significa nada correlacionadas y -1 significa totalmente correlacionadas negativamente. Normalmente, correlaciones menores del 0.5 (positivo o negativo) se consideran correlaciones muy bajas. Correlaciones entre 0.5 y 0.8 son correlaciones moderadas y no permiten tomar decisiones muy claras y correlaciones por encima del 0.8 son altas y sí que implican una clara correlación entre ambas variables."
   ]
  }
 ],
 "metadata": {
  "kernelspec": {
   "display_name": "Python 3 (ipykernel)",
   "language": "python",
   "name": "python3"
  },
  "language_info": {
   "codemirror_mode": {
    "name": "ipython",
    "version": 3
   },
   "file_extension": ".py",
   "mimetype": "text/x-python",
   "name": "python",
   "nbconvert_exporter": "python",
   "pygments_lexer": "ipython3",
   "version": "3.9.12"
  }
 },
 "nbformat": 4,
 "nbformat_minor": 5
}
